{
 "cells": [
  {
   "cell_type": "markdown",
   "id": "bff0ac32",
   "metadata": {},
   "source": [
    "# Analyze Orders , Rating , Fav Food trend out of Zomato Dataset"
   ]
  },
  {
   "cell_type": "markdown",
   "id": "6da6afbd",
   "metadata": {},
   "source": [
    "1. Problem Statement"
   ]
  },
  {
   "cell_type": "markdown",
   "id": "ea386202",
   "metadata": {},
   "source": [
    "Do EDA on Zomato Dataset to find insights of Order, Rating givens by customers ,there food habits for better recommendation."
   ]
  },
  {
   "cell_type": "markdown",
   "id": "100b783c",
   "metadata": {},
   "source": [
    "# Importing necessary libraries"
   ]
  },
  {
   "cell_type": "code",
   "execution_count": null,
   "id": "829524ff",
   "metadata": {},
   "outputs": [],
   "source": [
    "# Importing necessary libraries\n",
    "import pandas as pd\n",
    "import numpy as np\n",
    "import seaborn as sns\n",
    "import matplotlib.pyplot as plt\n",
    "%matplotlib inline"
   ]
  },
  {
   "cell_type": "markdown",
   "id": "8240631b",
   "metadata": {},
   "source": [
    "# Loading dataset "
   ]
  },
  {
   "cell_type": "code",
   "execution_count": null,
   "id": "14efdc94",
   "metadata": {},
   "outputs": [],
   "source": [
    "df = pd.read_csv('https://raw.githubusercontent.com/Amritrajdubey/DATASETS/m"
   ]
  }
 ],
 "metadata": {
  "kernelspec": {
   "display_name": "Python 3 (ipykernel)",
   "language": "python",
   "name": "python3"
  },
  "language_info": {
   "codemirror_mode": {
    "name": "ipython",
    "version": 3
   },
   "file_extension": ".py",
   "mimetype": "text/x-python",
   "name": "python",
   "nbconvert_exporter": "python",
   "pygments_lexer": "ipython3",
   "version": "3.11.0"
  }
 },
 "nbformat": 4,
 "nbformat_minor": 5
}
